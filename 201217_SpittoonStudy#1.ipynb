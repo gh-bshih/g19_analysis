{
 "cells": [
  {
   "cell_type": "code",
   "execution_count": 1,
   "metadata": {},
   "outputs": [],
   "source": [
    "import pandas as pd\n",
    "import os\n",
    "import re\n",
    "import matplotlib.pyplot as plt\n",
    "import matplotlib as mpl\n",
    "from matplotlib.colors import ListedColormap\n",
    "import seaborn as sns\n",
    "import numpy as np"
   ]
  },
  {
   "cell_type": "code",
   "execution_count": 2,
   "metadata": {},
   "outputs": [],
   "source": [
    "main_folder = '/ghds/cv19/analysis'\n",
    "flowcell_id = '201216_NB552470_0003_AHHJT7BGXG'\n",
    "path = os.path.join(main_folder, flowcell_id)\n",
    "df = pd.read_csv(os.path.join(path, 'c19_call.hdr.tsv'), sep='\\t')"
   ]
  },
  {
   "cell_type": "code",
   "execution_count": 3,
   "metadata": {},
   "outputs": [],
   "source": [
    "all_samples = pd.read_csv(os.path.join(path, 'c19_read_counts.hdr.tsv'), sep='\\t').dropna(subset=['run_sample_id']).sort_values(by=['pos_tube_rack', 'pos_extraction'])\n",
    "all_samples['RBP'] = all_samples.pos_tube_rack.str[:13]\n",
    "all_samples['primer_plate'] = all_samples.pos_extraction.str[:13]\n",
    "all_samples['row'] = all_samples.pos_extraction.str[14]\n",
    "all_samples['column'] = all_samples.pos_extraction.str[15:].astype('int')"
   ]
  },
  {
   "cell_type": "code",
   "execution_count": 4,
   "metadata": {},
   "outputs": [],
   "source": [
    "RBP = ['RBP201112A001', 'RBP201112A228', 'RBP201112A229', 'RBP201112A230']"
   ]
  },
  {
   "cell_type": "markdown",
   "metadata": {},
   "source": [
    "## 201216_EXP19_SpittoonStudy1\n",
    "RBP = ['RBP201112A001', 'RBP201112A228', 'RBP201112A229', 'RBP201112A230']"
   ]
  },
  {
   "cell_type": "code",
   "execution_count": null,
   "metadata": {},
   "outputs": [],
   "source": [
    "total_cols = 3\n",
    "total_rows = 4\n",
    "fig, axs = plt.subplots(nrows=total_rows, ncols=total_cols, sharex=True, sharey=True, \n",
    "                        figsize=(7*total_cols, 5*total_rows), constrained_layout=True, squeeze=False)\n",
    "\n",
    "# mpl.rcParams['figure.dpi'] = 500\n",
    "\n",
    "fig.suptitle(f'{flowcell_id}: RNAse Count by RT-PCR Plate, Spittoon Study #1')\n",
    "fig.set_facecolor('white')\n",
    "\n",
    "for i,k in zip(RBP, range(4)):\n",
    "    sub_RBP = all_samples[all_samples['RBP'] == i].sort_values(by='primer_plate')\n",
    "    \n",
    "    for l,m in zip(sub_RBP.primer_plate.unique(), range(3)):\n",
    "        sub_primer = sub_RBP[sub_RBP['primer_plate'] == l]\n",
    "        sub_primer.rnase_count.astype('int64')\n",
    "        \n",
    "        plate_map = sub_primer.iloc[:, [22, 23, 7]].pivot(index='row', columns='column', values='rnase_count').fillna(0)\n",
    "\n",
    "        for j in range(len(plate_map.columns) + 1, 13):\n",
    "            plate_map[f'{j}'] = 0\n",
    "            \n",
    "        plate_map = plate_map.astype(dtype='int')\n",
    "        \n",
    "        row = k % total_rows\n",
    "        pos = m % total_cols\n",
    "        \n",
    "        fig = sns.heatmap(plate_map, annot=True, cbar=False, cmap=\"Purples\", \n",
    "                    vmin=500, fmt='d', annot_kws={\"fontsize\":9}, ax=axs[row][pos])\n",
    "        \n",
    "        fig = sns.heatmap(plate_map, mask=plate_map > 50, cmap=ListedColormap(['grey']), annot=False, ax=axs[row][pos], cbar=False)\n",
    "\n",
    "        axs[row][pos].set_title(f'RBP Plate: {i}, Primer Plate: {l}')\n",
    "            \n",
    "# plt.savefig('EXP13_spittoon_aliquot', dpi=300)\n"
   ]
  },
  {
   "cell_type": "code",
   "execution_count": null,
   "metadata": {},
   "outputs": [],
   "source": []
  }
 ],
 "metadata": {
  "kernelspec": {
   "display_name": "Python 3",
   "language": "python",
   "name": "python3"
  },
  "language_info": {
   "codemirror_mode": {
    "name": "ipython",
    "version": 3
   },
   "file_extension": ".py",
   "mimetype": "text/x-python",
   "name": "python",
   "nbconvert_exporter": "python",
   "pygments_lexer": "ipython3",
   "version": "3.6.12"
  }
 },
 "nbformat": 4,
 "nbformat_minor": 4
}
