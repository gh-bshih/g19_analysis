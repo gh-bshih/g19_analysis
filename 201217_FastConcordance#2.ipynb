{
 "cells": [
  {
   "cell_type": "code",
   "execution_count": 1,
   "metadata": {},
   "outputs": [],
   "source": [
    "import os\n",
    "import re\n",
    "import itertools\n",
    "import pandas as pd\n",
    "import numpy as np\n",
    "import seaborn as sns\n",
    "import matplotlib.pyplot as plt\n",
    "import matplotlib as mpl\n",
    "from matplotlib.colors import ListedColormap\n",
    "from matplotlib.patches import Rectangle\n",
    "\n",
    "from sklearn import metrics\n",
    "from sklearn.linear_model import LinearRegression"
   ]
  },
  {
   "cell_type": "code",
   "execution_count": 2,
   "metadata": {},
   "outputs": [],
   "source": [
    "norm_RBP = 'RBP201112A183|RBP201112A181|RBP201112A184|RBP201112A068'\n",
    "fast_RBP = 'RBP201112A100|RBP201112A236|RBP201112A237|RBP201112A238'\n",
    "labels = ['0-0.01', '0.01-1', '1-10', '10-100', '>100']\n",
    "\n",
    "rbp_map = {'RBP201112A183': 'RBP201112A100',\n",
    "           'RBP201112A181': 'RBP201112A236',\n",
    "           'RBP201112A184': 'RBP201112A237',\n",
    "           'RBP201112A068': 'RBP201112A238'}"
   ]
  },
  {
   "cell_type": "markdown",
   "metadata": {},
   "source": [
    "# Data Wrangling"
   ]
  },
  {
   "cell_type": "code",
   "execution_count": null,
   "metadata": {},
   "outputs": [],
   "source": [
    "## Data Wrangling and Covid Ratio Binning ##\n",
    "df = pd.read_pickle(\n",
    "    '/ghds/groups/labdesk/bshih/c19dash/c19_dashboard/c19_call.pickle').dropna(how='all', axis=1)\n",
    "\n",
    "df = df[(df['sample_type'] != 'NTC') & (df['sample_type'] != 'Positive')]\n",
    "df = df[df['pos_tube_rack'].str.match(r'.*?(A6|B5)') == False]\n",
    "\n",
    "df['date'] = (df.runid.str[2:4] +\n",
    "              '-' + df.runid.str[4:6] +\n",
    "              '-' + df.runid.str[:2]).astype(np.datetime64)\n",
    "df['RBP'] = df['pos_tube_rack'].str.split(pat=':').str[0]\n",
    "df['well'] = df['pos_tube_rack'].str.split(pat=':').str[1]\n",
    "df['row'] = df['pos_tube_rack'].str[14]\n",
    "df['column'] = df['pos_tube_rack'].str.extract(r'.*?:[A-H](\\d+)').astype('int')\n",
    "df['sample_count'] = 1\n",
    "\n",
    "df['total_detected'] = df['call'].map({'not_detected': 0,\n",
    "                                       'detected': 1,\n",
    "                                       'no_call': np.nan})\n",
    "\n",
    "df['category'] = pd.cut(df['median_covid_ratio'],\n",
    "                        [-np.inf, 0.01, 1, 10, 100, np.inf], labels=labels)\n",
    "dummies = pd.get_dummies(df.category)\n",
    "df = pd.concat([df, dummies], axis=1)\n",
    "\n",
    "## Create Normal Extraction df ##\n",
    "df_norm = df[df['RBP'].str.contains(norm_RBP)].dropna(how='all', axis=1)\n",
    "df_norm['mapping'] = df_norm.RBP.map(rbp_map)\n",
    "\n",
    "## Create FAST Extraction df ##\n",
    "df_fast = df[df['RBP'].str.contains(fast_RBP)].dropna(how='all', axis=1)\n",
    "\n",
    "## Merge Normal and FAST df on RBP Mapping and Well ##\n",
    "combined = pd.merge(df_norm, df_fast, how='outer', left_on=['mapping', 'well'], right_on=['RBP', 'well'],\n",
    "                    suffixes=('_norm', '_fast')).sort_values(by='RBP_fast')"
   ]
  },
  {
   "cell_type": "markdown",
   "metadata": {},
   "source": [
    "# PPA/NPA"
   ]
  },
  {
   "cell_type": "code",
   "execution_count": null,
   "metadata": {},
   "outputs": [],
   "source": [
    "binning_norm = combined.groupby('RBP_norm', sort=False).agg({'sample_count_norm': 'sum',\n",
    "                                                             'date_norm': 'max',\n",
    "                                                             'total_detected_norm': 'sum',\n",
    "                                                             '0-0.01_norm': 'sum',\n",
    "                                                             '0.01-1_norm': 'sum',\n",
    "                                                             '1-10_norm': 'sum',\n",
    "                                                             '10-100_norm': 'sum',\n",
    "                                                             '>100_norm': 'sum'})\n",
    "binning_norm"
   ]
  },
  {
   "cell_type": "code",
   "execution_count": null,
   "metadata": {},
   "outputs": [],
   "source": [
    "binning_fast = combined.groupby('RBP_fast', sort=False).agg({'sample_count_fast': 'sum',\n",
    "                                                             'date_fast': 'max',\n",
    "                                                             'total_detected_fast': 'sum',\n",
    "                                                             '0-0.01_fast': 'sum',\n",
    "                                                             '0.01-1_fast': 'sum',\n",
    "                                                             '1-10_fast': 'sum',\n",
    "                                                             '10-100_fast': 'sum',\n",
    "                                                             '>100_fast': 'sum'})\n",
    "binning_fast"
   ]
  },
  {
   "cell_type": "code",
   "execution_count": null,
   "metadata": {},
   "outputs": [],
   "source": [
    "call_labels = ['detected', 'not_detected', 'no_call']\n",
    "\n",
    "true_calls = list(combined.call_norm.values)\n",
    "fast_calls = list(combined.call_fast.values)\n",
    "\n",
    "cf_matrix = metrics.confusion_matrix(true_calls, fast_calls, labels=call_labels)\n",
    "ax = sns.heatmap(cf_matrix, cmap=ListedColormap(['white']),\n",
    "                 annot=True, annot_kws={\"size\": 20}, fmt='d',\n",
    "                 cbar=False, linewidths=1, linecolor='black')\n",
    "\n",
    "ax.set_xticklabels(['Detected', 'Not Detected', 'No Call'])\n",
    "ax.set_yticklabels(['Detected', 'Not Detected', 'No Call'])\n",
    "ax.set_xlabel('FAST Extraction Calls')\n",
    "ax.set_ylabel('Normal Extraction Calls')\n",
    "\n",
    "a,b,c,d,e,f,g,h,i = cf_matrix.ravel()\n",
    "\n",
    "plt.title(f'PPA:{(a*100/(a+b+c)):.2f}%, NPA:{(e*100/(d+e+f)):.2f}%')\n",
    "\n",
    "plt.yticks(rotation=0)\n",
    "plt.show()"
   ]
  },
  {
   "cell_type": "code",
   "execution_count": null,
   "metadata": {},
   "outputs": [],
   "source": [
    "true_calls = list(combined.category_norm.values)\n",
    "fast_calls = list(combined.category_fast.values)\n",
    "\n",
    "cf_matrix = metrics.confusion_matrix(true_calls, fast_calls, labels=labels)\n",
    "ax = sns.heatmap(cf_matrix, cmap=ListedColormap(['white']),\n",
    "                 annot=True, annot_kws={\"size\": 20}, fmt='d',\n",
    "                 cbar=False, linewidths=1, linecolor='black')\n",
    "\n",
    "ax.set_xticklabels(labels)\n",
    "ax.set_yticklabels(labels)\n",
    "ax.set_xlabel('FAST Extraction G19 Score')\n",
    "ax.set_ylabel('Normal Extraction G19 Score')\n",
    "\n",
    "plt.yticks(rotation=0)\n",
    "plt.show()\n",
    "\n",
    "cf_matrix = metrics.confusion_matrix(true_calls, fast_calls, normalize='true')\n",
    "ax2 = sns.heatmap(cf_matrix, cmap='Blues', annot=True,\n",
    "                  linewidths=1, fmt='.3f', cbar=False)\n",
    "ax2.set_xticklabels(labels)\n",
    "ax2.set_yticklabels(labels)\n",
    "ax2.set_xlabel('FAST Extraction')\n",
    "ax2.set_ylabel('Normal Extraction')\n",
    "\n",
    "plt.yticks(rotation=0)\n",
    "plt.show()"
   ]
  },
  {
   "cell_type": "markdown",
   "metadata": {},
   "source": [
    "# Plate Comparison"
   ]
  },
  {
   "cell_type": "code",
   "execution_count": null,
   "metadata": {},
   "outputs": [],
   "source": [
    "total_cols = 2\n",
    "total_rows = 4\n",
    "\n",
    "fig, axs = plt.subplots(nrows=total_rows, ncols=total_cols, sharex=True, sharey=True,\n",
    "                        figsize=(7*total_cols, 5*total_rows), constrained_layout=True, squeeze=False)\n",
    "\n",
    "fig.suptitle(f'Left: Normal Extraction | Right: FAST Extraction')\n",
    "fig.set_facecolor('white')\n",
    "ax.tick_params(direction='out', length=6, color='black')\n",
    "\n",
    "row_to_num = {'A': 0, 'B': 1, 'C': 2, 'D': 3,\n",
    "              'E': 4, 'F': 5, 'G': 6, 'H': 7}\n",
    "\n",
    "for i, j, k in zip(combined.RBP_norm.unique(), combined.RBP_fast.unique(), range(4)):\n",
    "\n",
    "    norm = combined[combined['RBP_norm'] == i]\n",
    "    norm_pivot = norm.pivot(\n",
    "        index='row_norm', columns='column_norm', values='total_detected_norm')\n",
    "    mask_norm = norm_pivot.isnull()\n",
    "\n",
    "    norm_fig = sns.heatmap(norm_pivot, cbar=False, cmap=ListedColormap(\n",
    "        ['#b4ecb4', '#ff6961']), ax=axs[k][0], mask=mask_norm, linewidths=1)\n",
    "    norm_fig.set_facecolor('grey')\n",
    "\n",
    "    axs[k][0].set_title(f'RBP Plate: {i}')\n",
    "\n",
    "    fast = combined[combined['RBP_fast'] == j]\n",
    "    fast_pivot = fast.pivot(\n",
    "        index='row_fast', columns='column_fast', values='total_detected_fast')\n",
    "    mask_fast = fast_pivot.isnull()\n",
    "\n",
    "    fast_fig = sns.heatmap(fast_pivot, cbar=False, cmap=ListedColormap(\n",
    "        ['#b4ecb4', '#ff6961']), ax=axs[k][1], mask=mask_fast, linewidths=1)\n",
    "    fast_fig.set_facecolor('grey')\n",
    "    axs[k][1].set_title(f'RBP Plate: {j}')\n",
    "\n",
    "    drop_norm = norm[~((norm['total_detected_norm'].isna())\n",
    "                       & (fast['total_detected_fast'].isna()))]\n",
    "    drop_fast = fast[~((norm['total_detected_norm'].isna())\n",
    "                       & (fast['total_detected_fast'].isna()))]\n",
    "\n",
    "    for i in drop_norm[drop_norm['total_detected_norm'].values != drop_fast['total_detected_fast'].values].loc[:, ['row_norm', 'column_norm']].values:\n",
    "        norm_fig.add_patch(Rectangle(\n",
    "            (i[1] - 1, row_to_num[i[0]]), 1, 1, fill=False, edgecolor='blue', lw=3))\n",
    "        fast_fig.add_patch(Rectangle(\n",
    "            (i[1] - 1, row_to_num[i[0]]), 1, 1, fill=False, edgecolor='blue', lw=3))\n",
    "\n",
    "fig.savefig('fastconcordance2.png', dpi=300)"
   ]
  },
  {
   "cell_type": "markdown",
   "metadata": {},
   "source": [
    "### Discordant Wells"
   ]
  },
  {
   "cell_type": "code",
   "execution_count": null,
   "metadata": {},
   "outputs": [],
   "source": [
    "drop_comb = combined[~((combined['total_detected_norm'].isna())\n",
    "                       & (combined['total_detected_fast'].isna()))]\n",
    "\n",
    "drop_comb[(drop_comb['total_detected_norm'] != drop_comb['total_detected_fast'])]\\\n",
    "    .loc[:, ['RBP_norm', 'RBP_fast', 'well', 'median_covid_ratio_norm', 'median_covid_ratio_fast']]"
   ]
  },
  {
   "cell_type": "markdown",
   "metadata": {},
   "source": [
    "### Normal Covid Score vs FAST Covid Score"
   ]
  },
  {
   "cell_type": "code",
   "execution_count": null,
   "metadata": {},
   "outputs": [],
   "source": [
    "score_relation = combined.query(\"(total_detected_norm == 1 | total_detected_fast == 1) & \\\n",
    "                                 (median_covid_ratio_norm > 0 & median_covid_ratio_fast > 0)\")\n",
    "\n",
    "fig, ax = plt.subplots(figsize=(7, 7))\n",
    "ax.set(xscale='log', yscale='log')\n",
    "\n",
    "sns.scatterplot(data=score_relation, x='median_covid_ratio_norm',\n",
    "                y='median_covid_ratio_fast', s=75)\n",
    "\n",
    "x = score_relation['median_covid_ratio_norm'].values\n",
    "y = score_relation['median_covid_ratio_fast'].values\n",
    "\n",
    "new_x, new_y = zip(*sorted(zip(x, y)))\n",
    "\n",
    "logA = np.log(new_x)\n",
    "logB = np.log(new_y)\n",
    "\n",
    "m, c = np.polyfit(logA, logB, 1)\n",
    "y_fit = np.exp(m*logA + c)\n",
    "plt.plot(new_x, y_fit, 'r', linewidth=3)\n",
    "\n",
    "lims = [\n",
    "    np.min([ax.get_xlim(), ax.get_ylim()]),  # min of both axes\n",
    "    np.max([ax.get_xlim(), ax.get_ylim()]),  # max of both axes\n",
    "]\n",
    "\n",
    "# now plot both limits against eachother\n",
    "ax.plot(lims, lims, 'k--', alpha=0.75, zorder=0)\n",
    "\n",
    "plt.setp(ax.get_xticklabels(), fontsize=15)\n",
    "plt.setp(ax.get_yticklabels(), fontsize=15)\n",
    "\n",
    "ax.xaxis.label.set_size(20)\n",
    "ax.yaxis.label.set_size(20)\n",
    "fig.suptitle('Normal Median Covid Score vs FAST Median Covid Score\\n\\\n",
    "Red Line = Best Fit Line, Black = 1:1', fontsize=15)\n",
    "\n",
    "plt.show()"
   ]
  },
  {
   "cell_type": "code",
   "execution_count": null,
   "metadata": {
    "scrolled": false
   },
   "outputs": [],
   "source": [
    "sort_mapping = {'RBP201112A183': 1,\n",
    "                'RBP201112A181': 2,\n",
    "                'RBP201112A184': 3,\n",
    "                'RBP201112A068': 4}\n",
    "\n",
    "## Look at Singlicate for Discordant Wells ##\n",
    "singlicate = pd.read_pickle(\n",
    "    \"/ghds/groups/labdesk/bshih/c19dash/c19_dashboard/c19_read_counts.pickle\")\n",
    "\n",
    "singlicate_norm = singlicate[singlicate['run_sample_id'].isin(\n",
    "    combined.run_sample_id_norm.values)].dropna(how='all', axis=1)\n",
    "singlicate_fast = singlicate[singlicate['run_sample_id'].isin(\n",
    "    combined.run_sample_id_fast.values)].dropna(how='all', axis=1)\n",
    "\n",
    "singlicate_norm['well'] = singlicate_norm['pos_tube_rack'].str.split(\n",
    "    pat=':').str[1]\n",
    "singlicate_norm['RBP'] = singlicate_norm['pos_tube_rack'].str.split(\n",
    "    pat=':').str[0]\n",
    "singlicate_norm['sort'] = singlicate_norm['RBP'].map(sort_mapping)\n",
    "\n",
    "singlicate_fast['well'] = singlicate_fast['pos_tube_rack'].str.split(\n",
    "    pat=':').str[1]\n",
    "singlicate_fast['RBP'] = singlicate_fast['pos_tube_rack'].str.split(\n",
    "    pat=':').str[0]\n",
    "\n",
    "## Create Table of Discordant Sample ID for Normal and FAST ##\n",
    "drop_comb = combined[~((combined['total_detected_norm'].isna()) & (combined['total_detected_fast'].isna()))]\n",
    "discordant = drop_comb[(drop_comb['total_detected_norm'] != drop_comb['total_detected_fast'])].loc[:, [\n",
    "    'run_sample_id_norm', 'run_sample_id_fast']]\n",
    "\n",
    "## Find Discordant Samples for Normal and FAST ##\n",
    "single_norm = singlicate_norm[singlicate_norm['run_sample_id'].isin(discordant.run_sample_id_norm.values)].sort_values(by=['sort', 'well', 'covid_ratio']).add_suffix('_norm').reset_index()\n",
    "single_fast = singlicate_fast[singlicate_fast['run_sample_id'].isin(discordant.run_sample_id_fast.values)].sort_values(by=['RBP', 'well', 'covid_ratio']).add_suffix('_fast').reset_index()\n",
    "\n",
    "## Concat Discordant Samples into one df ##\n",
    "single_discord = pd.concat([single_norm, single_fast], axis=1).drop(columns='index')\n",
    "\n",
    "single_discord.loc[:, ['well_norm', 'covid_ratio_norm', 'covid_ratio_fast', 'RBP_fast']]"
   ]
  },
  {
   "cell_type": "markdown",
   "metadata": {},
   "source": [
    "### RNAse of No Call Wells"
   ]
  },
  {
   "cell_type": "code",
   "execution_count": null,
   "metadata": {},
   "outputs": [],
   "source": [
    "rnase_discord = combined[(combined['total_detected_norm'].isna()) | (combined['total_detected_fast'].isna())]\n",
    "\n",
    "rnase_norm = singlicate_norm[singlicate_norm['run_sample_id'].isin(rnase_discord.run_sample_id_norm.values)].sort_values(by=['sort', 'well', 'covid_ratio']).add_suffix('_norm').reset_index()\n",
    "rnase_fast = singlicate_fast[singlicate_fast['run_sample_id'].isin(rnase_discord.run_sample_id_fast.values)].sort_values(by=['RBP', 'well', 'covid_ratio']).add_suffix('_fast').reset_index()\n",
    "\n",
    "## Concat Discordant Samples into one df ##\n",
    "rnase_discord = pd.concat([rnase_norm, rnase_fast], axis=1).drop(columns='index')\n",
    "\n",
    "rnase_discord.loc[:, ['well_norm', 'rnase_count_norm', 'rnase_count_fast', 'RBP_fast']]\n"
   ]
  },
  {
   "cell_type": "markdown",
   "metadata": {},
   "source": [
    "### Spikein Count of No Call Well (FAST RBP201112A100:D3)"
   ]
  },
  {
   "cell_type": "code",
   "execution_count": null,
   "metadata": {},
   "outputs": [],
   "source": [
    "singlicate[singlicate['pos_tube_rack'] == 'RBP201112A100:D3'].loc[:,['spikein_count', 'covid_ratio', 'replicate_call', 'replicate_flags', 'pos_tube_rack']]"
   ]
  },
  {
   "cell_type": "code",
   "execution_count": null,
   "metadata": {},
   "outputs": [],
   "source": []
  }
 ],
 "metadata": {
  "kernelspec": {
   "display_name": "Python 3",
   "language": "python",
   "name": "python3"
  },
  "language_info": {
   "codemirror_mode": {
    "name": "ipython",
    "version": 3
   },
   "file_extension": ".py",
   "mimetype": "text/x-python",
   "name": "python",
   "nbconvert_exporter": "python",
   "pygments_lexer": "ipython3",
   "version": "3.6.12"
  }
 },
 "nbformat": 4,
 "nbformat_minor": 4
}
