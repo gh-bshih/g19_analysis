{
 "cells": [
  {
   "cell_type": "code",
   "execution_count": 1,
   "metadata": {},
   "outputs": [],
   "source": [
    "import matplotlib\n",
    "import matplotlib.pyplot as plt\n",
    "import pandas as pd\n",
    "import seaborn as sns\n",
    "from matplotlib.colors import ListedColormap"
   ]
  },
  {
   "cell_type": "code",
   "execution_count": 2,
   "metadata": {},
   "outputs": [],
   "source": [
    "all_samples = pd.read_pickle('/ghds/groups/labdesk/bshih/c19dash/c19_dashboard/c19_read_counts.pickle').dropna(subset=['pos_tube_rack'])\n",
    "\n",
    "all_samples['RBP'] = all_samples.pos_tube_rack.str[:13]\n",
    "all_samples['primer_plate'] = all_samples.pos_extraction.str[:13]\n",
    "all_samples['row'] = all_samples.pos_extraction.str[14]\n",
    "all_samples['column'] = all_samples.pos_extraction.str[15:].astype('int')\n",
    "\n",
    "RBP = ['RBP201112A086',\n",
    "'RBP201112A087',\n",
    "'RBP201112A088',\n",
    "'RBP201112A089',\n",
    "'RBP201112A112',\n",
    "'RBP201112A113',\n",
    "'RBP201112A114',\n",
    "'RBP201112A115']\n",
    "\n",
    "all_samples = all_samples[all_samples['RBP'].isin(RBP)].sort_values(by='RBP')"
   ]
  },
  {
   "cell_type": "markdown",
   "metadata": {},
   "source": [
    "## 201222_EXP21_SpittoonStudyAllStars\n",
    "RBP = ['RBP201112A086',\n",
    "'RBP201112A087',\n",
    "'RBP201112A088',\n",
    "'RBP201112A089',\n",
    "'RBP201112A112',\n",
    "'RBP201112A113',\n",
    "'RBP201112A114',\n",
    "'RBP201112A115']"
   ]
  },
  {
   "cell_type": "code",
   "execution_count": null,
   "metadata": {},
   "outputs": [],
   "source": [
    "total_cols = 3\n",
    "total_rows = 8\n",
    "plt.rcParams['font.size'] = '13'\n",
    "fig, axs = plt.subplots(nrows=total_rows, ncols=total_cols, sharex=True, sharey=True, \n",
    "                        figsize=(7*total_cols, 5*total_rows), constrained_layout=True, squeeze=False)\n",
    "\n",
    "fig.suptitle(f'{all_samples.iloc[0,0]}: RNAse Count by RT-PCR Plate, Spittoon Study All Stars')\n",
    "fig.set_facecolor('white')\n",
    "\n",
    "for i,k in zip(all_samples.RBP.unique(), range(8)):\n",
    "    sub_RBP = all_samples[all_samples['RBP'] == i].sort_values(by='primer_plate')\n",
    "    \n",
    "    for l,m in zip(sub_RBP.primer_plate.unique(), range(3)):\n",
    "        sub_primer = sub_RBP[sub_RBP['primer_plate'] == l]\n",
    "        sub_primer.rnase_count.astype('int64')\n",
    "        \n",
    "        plate_map = sub_primer.loc[:, ['row', 'column', 'rnase_count']].pivot(index='row', columns='column', values='rnase_count').fillna(0)\n",
    "            \n",
    "        plate_map = plate_map.astype(dtype='int')\n",
    "        \n",
    "        row = k % total_rows\n",
    "        pos = m % total_cols\n",
    "        \n",
    "        fig = sns.heatmap(plate_map, annot=True, cbar=False, cmap=\"Purples\", \n",
    "                    vmin=500, fmt='d', annot_kws={\"fontsize\":9}, ax=axs[row][pos])\n",
    "        \n",
    "        fig = sns.heatmap(plate_map, mask=plate_map > 50, cmap=ListedColormap(['grey']), annot=False, ax=axs[row][pos], cbar=False)\n",
    "\n",
    "        axs[row][pos].set_title(f'RBP Plate: {i}, Primer Plate: {l}')\n",
    "            \n",
    "plt.savefig('spittoonstudyallstars', dpi=300)\n"
   ]
  },
  {
   "cell_type": "code",
   "execution_count": null,
   "metadata": {},
   "outputs": [],
   "source": [
    "all_samples[all_samples['run_sample_id'].str.contains(r'\\d{14}')]\\\n",
    ".loc[:, ['run_sample_id', 'RBP', 'row', 'column']].sort_values(by=['RBP', 'row', 'column']).drop_duplicates()"
   ]
  },
  {
   "cell_type": "markdown",
   "metadata": {},
   "source": [
    "## Compare Saliva and Nasal Pos Control G19 Score"
   ]
  },
  {
   "cell_type": "code",
   "execution_count": null,
   "metadata": {},
   "outputs": [],
   "source": [
    "calls = pd.read_pickle('/ghds/groups/labdesk/bshih/c19dash/c19_dashboard/c19_read_counts.pickle').dropna(subset=['pos_tube_rack'])\n",
    "samples = calls[calls['run_sample_id'].str.startswith(('G', 'H'), na=False)]\n",
    "samples = samples[~samples['run_sample_id'].str.startswith('Ht', na=False)]\n",
    "\n",
    "clin_rbp = samples[samples['runid'].str.contains(r'^2012.*$')].pos_tube_rack.str.split(':').str[0].unique()\n",
    "\n",
    "clin_pos = calls[calls['pos_tube_rack'].str.contains('|'.join(clin_rbp))].query(\"sample_type == 'Positive'\").replace({'Positive':'nasal_pos'})\n",
    "saliva_pos = all_samples.query(\"sample_type == 'Positive'\").replace({'Positive':'saliva_pos'})\n",
    "\n",
    "both = pd.concat([clin_pos, saliva_pos])"
   ]
  },
  {
   "cell_type": "code",
   "execution_count": null,
   "metadata": {},
   "outputs": [],
   "source": [
    "matplotlib.rcParams.update({'font.size': 15})\n",
    "\n",
    "a = sns.boxplot(x='sample_type', y='covid_ratio', data=both, showfliers=False, palette=\"Purples\")\n",
    "a.set_yscale('log')\n",
    "\n",
    "plt.axhline(y=0.01, color='r', linewidth=1, ls='--')\n",
    "plt.ylim(0,1)\n",
    "plt.ylabel('G19 Score')\n",
    "\n",
    "plt.title('Positive Control G19 Score Comparison\\nBetween Nasal and Saliva', y=1.05)\n",
    "plt.show()"
   ]
  },
  {
   "cell_type": "code",
   "execution_count": null,
   "metadata": {},
   "outputs": [],
   "source": []
  }
 ],
 "metadata": {
  "kernelspec": {
   "display_name": "Python 3",
   "language": "python",
   "name": "python3"
  },
  "language_info": {
   "codemirror_mode": {
    "name": "ipython",
    "version": 3
   },
   "file_extension": ".py",
   "mimetype": "text/x-python",
   "name": "python",
   "nbconvert_exporter": "python",
   "pygments_lexer": "ipython3",
   "version": "3.6.12"
  }
 },
 "nbformat": 4,
 "nbformat_minor": 4
}
