{
 "cells": [
  {
   "cell_type": "code",
   "execution_count": 1,
   "metadata": {},
   "outputs": [],
   "source": [
    "import pandas as pd\n",
    "import numpy as np\n",
    "import os\n",
    "import re"
   ]
  },
  {
   "cell_type": "code",
   "execution_count": 2,
   "metadata": {},
   "outputs": [],
   "source": [
    "colnames=['sample_id', 'notes'] \n",
    "\n",
    "a = pd.read_csv('saliva_samples/03-HN-002 Saliva Transfers - 19Nov2020.csv', usecols=[1,2], names=colnames)\n",
    "b = pd.read_csv('saliva_samples/03-HN-002 Saliva Transfers - 20Nov20.csv', names=colnames)\n",
    "c = pd.read_csv('saliva_samples/03-HN-002 Saliva Transfers - 24Nov2020.csv', usecols=[0,1], names=colnames)\n",
    "d = pd.read_csv('saliva_samples/03-HN-002 Saliva Transfers - 03DEC2020.csv', usecols=[1,2], names=colnames)\n",
    "e = pd.read_csv('saliva_samples/03-HN-002 Saliva Transfers - 09Dec2020.csv', usecols=[1,2], names=colnames)\n",
    "\n",
    "total = pd.concat([a,b,c,d,e])"
   ]
  },
  {
   "cell_type": "code",
   "execution_count": 3,
   "metadata": {},
   "outputs": [
    {
     "data": {
      "text/html": [
       "<div>\n",
       "<style scoped>\n",
       "    .dataframe tbody tr th:only-of-type {\n",
       "        vertical-align: middle;\n",
       "    }\n",
       "\n",
       "    .dataframe tbody tr th {\n",
       "        vertical-align: top;\n",
       "    }\n",
       "\n",
       "    .dataframe thead th {\n",
       "        text-align: right;\n",
       "    }\n",
       "</style>\n",
       "<table border=\"1\" class=\"dataframe\">\n",
       "  <thead>\n",
       "    <tr style=\"text-align: right;\">\n",
       "      <th></th>\n",
       "      <th>sample_id</th>\n",
       "      <th>notes</th>\n",
       "    </tr>\n",
       "  </thead>\n",
       "  <tbody>\n",
       "    <tr>\n",
       "      <th>0</th>\n",
       "      <td>55052006560747</td>\n",
       "      <td>cloudy + redish</td>\n",
       "    </tr>\n",
       "    <tr>\n",
       "      <th>1</th>\n",
       "      <td>55052006560737</td>\n",
       "      <td>clear</td>\n",
       "    </tr>\n",
       "    <tr>\n",
       "      <th>2</th>\n",
       "      <td>55052006560805</td>\n",
       "      <td>clear</td>\n",
       "    </tr>\n",
       "    <tr>\n",
       "      <th>3</th>\n",
       "      <td>55052006560763</td>\n",
       "      <td>slightly cloudy</td>\n",
       "    </tr>\n",
       "    <tr>\n",
       "      <th>4</th>\n",
       "      <td>55052006560710</td>\n",
       "      <td>clear</td>\n",
       "    </tr>\n",
       "    <tr>\n",
       "      <th>...</th>\n",
       "      <td>...</td>\n",
       "      <td>...</td>\n",
       "    </tr>\n",
       "    <tr>\n",
       "      <th>175</th>\n",
       "      <td>55052006560396</td>\n",
       "      <td>slightly cloudy</td>\n",
       "    </tr>\n",
       "    <tr>\n",
       "      <th>176</th>\n",
       "      <td>55052006560440</td>\n",
       "      <td>yellow + cloudy</td>\n",
       "    </tr>\n",
       "    <tr>\n",
       "      <th>177</th>\n",
       "      <td>55052006560467</td>\n",
       "      <td>clear</td>\n",
       "    </tr>\n",
       "    <tr>\n",
       "      <th>178</th>\n",
       "      <td>55052006560537</td>\n",
       "      <td>clear</td>\n",
       "    </tr>\n",
       "    <tr>\n",
       "      <th>179</th>\n",
       "      <td>55052006560516</td>\n",
       "      <td>clear</td>\n",
       "    </tr>\n",
       "  </tbody>\n",
       "</table>\n",
       "<p>180 rows × 2 columns</p>\n",
       "</div>"
      ],
      "text/plain": [
       "          sample_id            notes\n",
       "0    55052006560747  cloudy + redish\n",
       "1    55052006560737            clear\n",
       "2    55052006560805            clear\n",
       "3    55052006560763  slightly cloudy\n",
       "4    55052006560710            clear\n",
       "..              ...              ...\n",
       "175  55052006560396  slightly cloudy\n",
       "176  55052006560440  yellow + cloudy\n",
       "177  55052006560467            clear\n",
       "178  55052006560537            clear\n",
       "179  55052006560516            clear\n",
       "\n",
       "[180 rows x 2 columns]"
      ]
     },
     "execution_count": 3,
     "metadata": {},
     "output_type": "execute_result"
    }
   ],
   "source": [
    "RBP = ['RBP201112A086',\n",
    "'RBP201112A087',\n",
    "'RBP201112A088',\n",
    "'RBP201112A089',\n",
    "'RBP201112A112',\n",
    "'RBP201112A113',\n",
    "'RBP201112A114',\n",
    "'RBP201112A115',\n",
    "'RBP201112A249',\n",
    "'RBP201112A250'\n",
    "]\n",
    "\n",
    "\n",
    "samples = pd.read_pickle('/ghds/groups/labdesk/bshih/c19dash/c19_dashboard/c19_call.pickle')\n",
    "samples = samples[samples['pos_tube_rack'].str.split(\":\").str[0].isin(RBP)]\n",
    "saliva_study = samples[samples['run_sample_id'].str.contains(r'\\d{14}') == True].loc[:, ['run_sample_id']].astype('int')\n",
    "saliva_study = saliva_study.merge(total, left_on='run_sample_id', right_on='sample_id', how='left').drop(columns=['run_sample_id'])\n",
    "saliva_study"
   ]
  },
  {
   "cell_type": "code",
   "execution_count": 5,
   "metadata": {},
   "outputs": [],
   "source": [
    "# saliva_study.to_csv('saliva_notes.csv', index=False)"
   ]
  },
  {
   "cell_type": "code",
   "execution_count": null,
   "metadata": {},
   "outputs": [],
   "source": []
  }
 ],
 "metadata": {
  "kernelspec": {
   "display_name": "Python 3",
   "language": "python",
   "name": "python3"
  },
  "language_info": {
   "codemirror_mode": {
    "name": "ipython",
    "version": 3
   },
   "file_extension": ".py",
   "mimetype": "text/x-python",
   "name": "python",
   "nbconvert_exporter": "python",
   "pygments_lexer": "ipython3",
   "version": "3.6.12"
  }
 },
 "nbformat": 4,
 "nbformat_minor": 4
}
