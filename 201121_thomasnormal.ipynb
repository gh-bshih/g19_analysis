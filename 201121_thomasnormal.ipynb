{
 "cells": [
  {
   "cell_type": "code",
   "execution_count": 1,
   "metadata": {},
   "outputs": [],
   "source": [
    "import pandas as pd\n",
    "import os\n",
    "import re\n",
    "import matplotlib.pyplot as plt\n",
    "import seaborn as sns\n",
    "import numpy as np\n",
    "\n",
    "import matplotlib as mpl\n",
    "mpl.rcParams['figure.dpi'] = 300"
   ]
  },
  {
   "cell_type": "code",
   "execution_count": 2,
   "metadata": {},
   "outputs": [],
   "source": [
    "main_folder = '/ghds/cv19/analysis'\n",
    "flowcell_id = '201120_NB552478_0005_AHHJLHBGXG'\n",
    "path = os.path.join(main_folder, flowcell_id)\n",
    "df = pd.read_csv(os.path.join(path, 'c19_call.hdr.tsv'), sep='\\t')"
   ]
  },
  {
   "cell_type": "code",
   "execution_count": 3,
   "metadata": {},
   "outputs": [],
   "source": [
    "df = df[df['sample_type'] == 'Sample']\n",
    "\n",
    "df['row'] = df['pos_tube_rack'].str[14]\n",
    "df['column'] = df['pos_tube_rack'].str.extract(r'.*?:[A-H](\\d+)').astype('int')\n",
    "df['RBP'] = df['pos_tube_rack'].str.extract(r'(.*?):.*$')\n",
    "\n",
    "df['positive_detection'] = df['median_covid_ratio'].ge(0.01)\n",
    "df['sample_count'] = 1\n",
    "\n",
    "\n",
    "mapping1 = {'A':0, 'B':0,\n",
    "           'C':500, 'D':500,\n",
    "           'E':200, 'F':200,\n",
    "           'G':100, 'H':100\n",
    "            }\n",
    "\n",
    "mapping2 = {'A':0, 'B':0,\n",
    "           'C':100, 'D':100,\n",
    "           'E':50, 'F':50,\n",
    "           'G':25, 'H':25\n",
    "            }"
   ]
  },
  {
   "cell_type": "code",
   "execution_count": 4,
   "metadata": {},
   "outputs": [
    {
     "name": "stderr",
     "output_type": "stream",
     "text": [
      "/home/bshih/miniconda3/envs/c19dash/lib/python3.6/site-packages/ipykernel_launcher.py:2: SettingWithCopyWarning: \n",
      "A value is trying to be set on a copy of a slice from a DataFrame.\n",
      "Try using .loc[row_indexer,col_indexer] = value instead\n",
      "\n",
      "See the caveats in the documentation: https://pandas.pydata.org/pandas-docs/stable/user_guide/indexing.html#returning-a-view-versus-a-copy\n",
      "  \n",
      "/home/bshih/miniconda3/envs/c19dash/lib/python3.6/site-packages/seaborn/axisgrid.py:645: UserWarning: Using the stripplot function without specifying `order` is likely to produce an incorrect plot.\n",
      "  warnings.warn(warning)\n"
     ]
    },
    {
     "data": {
      "image/png": "[encoded data removed]",
      "text/plain": [
       "<Figure size 720x288 with 4 Axes>"
      ]
     },
     "metadata": {
      "needs_background": "light"
     },
     "output_type": "display_data"
    }
   ],
   "source": [
    "p1_2 = df[df['pos_tube_rack'].str.contains(('RBP201022A122|RBP201022A123'))]\n",
    "p1_2['condition'] = p1_2['row'].map(mapping1)\n",
    "\n",
    "g = sns.FacetGrid(p1_2, col='condition', hue='condition')\n",
    "g.map(sns.stripplot, 'condition', 'median_covid_ratio').set(xticks=[], yscale='log', ylim=[0.0001, 10])\n",
    "g.map(plt.axhline, y=0.01, ls='--', c='red')\n",
    "g.set_titles(col_template=\"{col_name} copies\")\n",
    "g.set_axis_labels(\"\", \"Median G19 Score\")\n",
    "\n",
    "g.fig.subplots_adjust(top=0.8)\n",
    "g.fig.suptitle('Thomas Scientific Tips (HHJLHBGXG)')\n",
    "\n",
    "g.fig.set_figheight(4)\n",
    "g.fig.set_figwidth(10)"
   ]
  },
  {
   "cell_type": "code",
   "execution_count": 5,
   "metadata": {},
   "outputs": [
    {
     "data": {
      "text/html": [
       "<div>\n",
       "<style scoped>\n",
       "    .dataframe tbody tr th:only-of-type {\n",
       "        vertical-align: middle;\n",
       "    }\n",
       "\n",
       "    .dataframe tbody tr th {\n",
       "        vertical-align: top;\n",
       "    }\n",
       "\n",
       "    .dataframe thead th {\n",
       "        text-align: right;\n",
       "    }\n",
       "</style>\n",
       "<table border=\"1\" class=\"dataframe\">\n",
       "  <thead>\n",
       "    <tr style=\"text-align: right;\">\n",
       "      <th>% &gt; 0.01</th>\n",
       "      <th>True</th>\n",
       "    </tr>\n",
       "    <tr>\n",
       "      <th>condition</th>\n",
       "      <th></th>\n",
       "    </tr>\n",
       "  </thead>\n",
       "  <tbody>\n",
       "    <tr>\n",
       "      <th>0</th>\n",
       "      <td>0.022727</td>\n",
       "    </tr>\n",
       "    <tr>\n",
       "      <th>100</th>\n",
       "      <td>1.000000</td>\n",
       "    </tr>\n",
       "    <tr>\n",
       "      <th>200</th>\n",
       "      <td>1.000000</td>\n",
       "    </tr>\n",
       "    <tr>\n",
       "      <th>500</th>\n",
       "      <td>1.000000</td>\n",
       "    </tr>\n",
       "  </tbody>\n",
       "</table>\n",
       "</div>"
      ],
      "text/plain": [
       "% > 0.01       True\n",
       "condition          \n",
       "0          0.022727\n",
       "100        1.000000\n",
       "200        1.000000\n",
       "500        1.000000"
      ]
     },
     "execution_count": 5,
     "metadata": {},
     "output_type": "execute_result"
    }
   ],
   "source": [
    "p1_2.set_index('condition').median_covid_ratio.rename('% > 0.01').ge(0.01).groupby(\n",
    "    level=0).value_counts(True).unstack(fill_value=0).iloc[:,[1]]"
   ]
  },
  {
   "cell_type": "code",
   "execution_count": 6,
   "metadata": {},
   "outputs": [
    {
     "name": "stderr",
     "output_type": "stream",
     "text": [
      "/home/bshih/miniconda3/envs/c19dash/lib/python3.6/site-packages/ipykernel_launcher.py:2: SettingWithCopyWarning: \n",
      "A value is trying to be set on a copy of a slice from a DataFrame.\n",
      "Try using .loc[row_indexer,col_indexer] = value instead\n",
      "\n",
      "See the caveats in the documentation: https://pandas.pydata.org/pandas-docs/stable/user_guide/indexing.html#returning-a-view-versus-a-copy\n",
      "  \n",
      "/home/bshih/miniconda3/envs/c19dash/lib/python3.6/site-packages/seaborn/axisgrid.py:645: UserWarning: Using the stripplot function without specifying `order` is likely to produce an incorrect plot.\n",
      "  warnings.warn(warning)\n"
     ]
    },
    {
     "data": {
      "image/png": "[encoded data removed]",
      "text/plain": [
       "<Figure size 720x288 with 4 Axes>"
      ]
     },
     "metadata": {
      "needs_background": "light"
     },
     "output_type": "display_data"
    }
   ],
   "source": [
    "p3_4 = df[df['pos_tube_rack'].str.contains(('RBP201022A124|RBP201022A125'))]\n",
    "p3_4['condition'] = p3_4['row'].map(mapping2)\n",
    "\n",
    "g = sns.FacetGrid(p3_4, col='condition', hue='condition')\n",
    "g.map(sns.stripplot, 'condition', 'median_covid_ratio').set(xticks=[], yscale='log', ylim=[0.0001, 10])\n",
    "g.map(plt.axhline, y=0.01, ls='--', c='red')\n",
    "g.set_titles(col_template=\"{col_name} copies\")\n",
    "g.set_axis_labels(\"\", \"Median G19 Score\")\n",
    "\n",
    "g.fig.subplots_adjust(top=0.8)\n",
    "g.fig.suptitle('Thomas Scientific Tips (HHJLHBGXG)')\n",
    "\n",
    "g.fig.set_figheight(4)\n",
    "g.fig.set_figwidth(10)"
   ]
  },
  {
   "cell_type": "code",
   "execution_count": 7,
   "metadata": {},
   "outputs": [
    {
     "data": {
      "text/html": [
       "<div>\n",
       "<style scoped>\n",
       "    .dataframe tbody tr th:only-of-type {\n",
       "        vertical-align: middle;\n",
       "    }\n",
       "\n",
       "    .dataframe tbody tr th {\n",
       "        vertical-align: top;\n",
       "    }\n",
       "\n",
       "    .dataframe thead th {\n",
       "        text-align: right;\n",
       "    }\n",
       "</style>\n",
       "<table border=\"1\" class=\"dataframe\">\n",
       "  <thead>\n",
       "    <tr style=\"text-align: right;\">\n",
       "      <th>% &gt; 0.01</th>\n",
       "      <th>True</th>\n",
       "    </tr>\n",
       "    <tr>\n",
       "      <th>condition</th>\n",
       "      <th></th>\n",
       "    </tr>\n",
       "  </thead>\n",
       "  <tbody>\n",
       "    <tr>\n",
       "      <th>0</th>\n",
       "      <td>0.0000</td>\n",
       "    </tr>\n",
       "    <tr>\n",
       "      <th>25</th>\n",
       "      <td>0.8750</td>\n",
       "    </tr>\n",
       "    <tr>\n",
       "      <th>50</th>\n",
       "      <td>0.9375</td>\n",
       "    </tr>\n",
       "    <tr>\n",
       "      <th>100</th>\n",
       "      <td>1.0000</td>\n",
       "    </tr>\n",
       "  </tbody>\n",
       "</table>\n",
       "</div>"
      ],
      "text/plain": [
       "% > 0.01     True\n",
       "condition        \n",
       "0          0.0000\n",
       "25         0.8750\n",
       "50         0.9375\n",
       "100        1.0000"
      ]
     },
     "execution_count": 7,
     "metadata": {},
     "output_type": "execute_result"
    }
   ],
   "source": [
    "p3_4.set_index('condition').median_covid_ratio.rename('% > 0.01').ge(0.01).groupby(\n",
    "    level=0).value_counts(True).unstack(fill_value=0).iloc[:,[1]]"
   ]
  },
  {
   "cell_type": "markdown",
   "metadata": {},
   "source": [
    "## Nicer Looking Plots"
   ]
  },
  {
   "cell_type": "code",
   "execution_count": 26,
   "metadata": {},
   "outputs": [
    {
     "name": "stderr",
     "output_type": "stream",
     "text": [
      "/home/bshih/miniconda3/envs/c19dash/lib/python3.6/site-packages/ipykernel_launcher.py:2: SettingWithCopyWarning: \n",
      "A value is trying to be set on a copy of a slice from a DataFrame.\n",
      "Try using .loc[row_indexer,col_indexer] = value instead\n",
      "\n",
      "See the caveats in the documentation: https://pandas.pydata.org/pandas-docs/stable/user_guide/indexing.html#returning-a-view-versus-a-copy\n",
      "  \n",
      "/home/bshih/miniconda3/envs/c19dash/lib/python3.6/site-packages/seaborn/axisgrid.py:645: UserWarning: Using the boxplot function without specifying `order` is likely to produce an incorrect plot.\n",
      "  warnings.warn(warning)\n",
      "/home/bshih/miniconda3/envs/c19dash/lib/python3.6/site-packages/seaborn/axisgrid.py:645: UserWarning: Using the stripplot function without specifying `order` is likely to produce an incorrect plot.\n",
      "  warnings.warn(warning)\n"
     ]
    },
    {
     "data": {
      "image/png": "[encoded data removed]",
      "text/plain": [
       "<Figure size 720x288 with 4 Axes>"
      ]
     },
     "metadata": {},
     "output_type": "display_data"
    }
   ],
   "source": [
    "p3_4 = df[df['pos_tube_rack'].str.contains(('RBP201022A124|RBP201022A125'))]\n",
    "p3_4['condition'] = p3_4['row'].map(mapping2)\n",
    "\n",
    "sns.set_style('white')\n",
    "\n",
    "g = sns.FacetGrid(p3_4, col='condition')\n",
    "\n",
    "g.map(sns.boxplot, 'condition', 'median_covid_ratio', \\\n",
    "      showfliers=False, color='w', linewidth=2)\n",
    "g.map(sns.stripplot, 'condition', 'median_covid_ratio', jitter=0.4, size=3.2, color='lightseagreen')\\\n",
    "    .set(xticks=[], yscale='log', ylim=[0.0001, 10])\n",
    "\n",
    "g.map(plt.axhline, y=0.01, ls='--', c='red')\n",
    "g.set_titles(col_template=\"{col_name} copies\")\n",
    "g.set_axis_labels(\"\", \"Median G19 Score\")\n",
    "\n",
    "g.fig.subplots_adjust(top=0.8)\n",
    "g.fig.suptitle('Standard Nasal Extraction Thomas Scientific Tips (HHJLHBGXG)')\n",
    "\n",
    "g.fig.set_figheight(4)\n",
    "g.fig.set_figwidth(10)\n",
    "\n",
    "g.savefig('thomas standard', dpi=300)"
   ]
  },
  {
   "cell_type": "code",
   "execution_count": 25,
   "metadata": {},
   "outputs": [
    {
     "data": {
      "text/html": [
       "<div>\n",
       "<style scoped>\n",
       "    .dataframe tbody tr th:only-of-type {\n",
       "        vertical-align: middle;\n",
       "    }\n",
       "\n",
       "    .dataframe tbody tr th {\n",
       "        vertical-align: top;\n",
       "    }\n",
       "\n",
       "    .dataframe thead th {\n",
       "        text-align: right;\n",
       "    }\n",
       "</style>\n",
       "<table border=\"1\" class=\"dataframe\">\n",
       "  <thead>\n",
       "    <tr style=\"text-align: right;\">\n",
       "      <th></th>\n",
       "      <th>detected</th>\n",
       "      <th>not_detected</th>\n",
       "      <th>pass</th>\n",
       "      <th>sample_count</th>\n",
       "      <th>mean_g19score</th>\n",
       "      <th>positive_detection</th>\n",
       "    </tr>\n",
       "    <tr>\n",
       "      <th>condition</th>\n",
       "      <th></th>\n",
       "      <th></th>\n",
       "      <th></th>\n",
       "      <th></th>\n",
       "      <th></th>\n",
       "      <th></th>\n",
       "    </tr>\n",
       "  </thead>\n",
       "  <tbody>\n",
       "    <tr>\n",
       "      <th>0</th>\n",
       "      <td>0</td>\n",
       "      <td>44</td>\n",
       "      <td>44</td>\n",
       "      <td>44</td>\n",
       "      <td>0.000092</td>\n",
       "      <td>0.0000</td>\n",
       "    </tr>\n",
       "    <tr>\n",
       "      <th>25</th>\n",
       "      <td>42</td>\n",
       "      <td>6</td>\n",
       "      <td>48</td>\n",
       "      <td>48</td>\n",
       "      <td>0.047777</td>\n",
       "      <td>0.8750</td>\n",
       "    </tr>\n",
       "    <tr>\n",
       "      <th>50</th>\n",
       "      <td>45</td>\n",
       "      <td>3</td>\n",
       "      <td>48</td>\n",
       "      <td>48</td>\n",
       "      <td>0.100320</td>\n",
       "      <td>0.9375</td>\n",
       "    </tr>\n",
       "    <tr>\n",
       "      <th>100</th>\n",
       "      <td>48</td>\n",
       "      <td>0</td>\n",
       "      <td>48</td>\n",
       "      <td>48</td>\n",
       "      <td>0.197754</td>\n",
       "      <td>1.0000</td>\n",
       "    </tr>\n",
       "  </tbody>\n",
       "</table>\n",
       "</div>"
      ],
      "text/plain": [
       "           detected  not_detected  pass  sample_count  mean_g19score  \\\n",
       "condition                                                              \n",
       "0                 0            44    44            44       0.000092   \n",
       "25               42             6    48            48       0.047777   \n",
       "50               45             3    48            48       0.100320   \n",
       "100              48             0    48            48       0.197754   \n",
       "\n",
       "           positive_detection  \n",
       "condition                      \n",
       "0                      0.0000  \n",
       "25                     0.8750  \n",
       "50                     0.9375  \n",
       "100                    1.0000  "
      ]
     },
     "execution_count": 25,
     "metadata": {},
     "output_type": "execute_result"
    }
   ],
   "source": [
    "p3_4_calls = pd.get_dummies(p3_4.call)\n",
    "p3_4_passqc = pd.get_dummies(p3_4.flags)\n",
    "p3_4 = pd.concat([p3_4, p3_4_calls, p3_4_passqc], axis=1)\n",
    "\n",
    "p3_4.groupby('condition').agg({'detected':'sum',\n",
    "                               'not_detected':'sum',\n",
    "                               'pass':'sum',\n",
    "                               'sample_count':'sum',\n",
    "                               'median_covid_ratio':'mean',\n",
    "                               'positive_detection':'mean'\n",
    "                              }).rename(columns={'median_covid_ratio':'mean_g19score'})"
   ]
  },
  {
   "cell_type": "code",
   "execution_count": null,
   "metadata": {},
   "outputs": [],
   "source": []
  }
 ],
 "metadata": {
  "kernelspec": {
   "display_name": "Python 3",
   "language": "python",
   "name": "python3"
  },
  "language_info": {
   "codemirror_mode": {
    "name": "ipython",
    "version": 3
   },
   "file_extension": ".py",
   "mimetype": "text/x-python",
   "name": "python",
   "nbconvert_exporter": "python",
   "pygments_lexer": "ipython3",
   "version": "3.6.12"
  }
 },
 "nbformat": 4,
 "nbformat_minor": 4
}
